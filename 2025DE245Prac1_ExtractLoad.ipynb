{
  "nbformat": 4,
  "nbformat_minor": 0,
  "metadata": {
    "colab": {
      "provenance": [],
      "include_colab_link": true
    },
    "kernelspec": {
      "name": "python3",
      "display_name": "Python 3"
    },
    "language_info": {
      "name": "python"
    }
  },
  "cells": [
    {
      "cell_type": "markdown",
      "metadata": {
        "id": "view-in-github",
        "colab_type": "text"
      },
      "source": [
        "<a href=\"https://colab.research.google.com/github/Douw450/2025DE245Prac2/blob/main/2025DE245Prac1_ExtractLoad.ipynb\" target=\"_parent\"><img src=\"https://colab.research.google.com/assets/colab-badge.svg\" alt=\"Open In Colab\"/></a>"
      ]
    },
    {
      "cell_type": "markdown",
      "source": [
        "# Introduction to Python for Data Engineering\n",
        "\n",
        "This notebook demonstrates how to read data from a public API, process it to create useful information, and store the result in an SQLite database.\n",
        "\n",
        "It assumes you have read [this article](https://www.startdataengineering.com/post/python-for-de/#extract--load-read-and-write-data-to-any-system).\n",
        "\n",
        "**Acknowledgment**: Parts of this notebook were developed with the assistance of ChatGPT, an AI language model by OpenAI, to support instructional design and coding tasks related to data engineering concepts."
      ],
      "metadata": {
        "id": "Fok6QWp9znpg"
      }
    },
    {
      "cell_type": "code",
      "execution_count": 13,
      "metadata": {
        "colab": {
          "base_uri": "https://localhost:8080/"
        },
        "id": "vpIOn2KKzVhs",
        "outputId": "aad9ef57-3082-4cfe-94a8-9b3730bc0302"
      },
      "outputs": [
        {
          "output_type": "stream",
          "name": "stdout",
          "text": [
            "Requirement already satisfied: requests in /usr/local/lib/python3.11/dist-packages (2.32.3)\n",
            "Requirement already satisfied: charset-normalizer<4,>=2 in /usr/local/lib/python3.11/dist-packages (from requests) (3.4.2)\n",
            "Requirement already satisfied: idna<4,>=2.5 in /usr/local/lib/python3.11/dist-packages (from requests) (3.10)\n",
            "Requirement already satisfied: urllib3<3,>=1.21.1 in /usr/local/lib/python3.11/dist-packages (from requests) (2.5.0)\n",
            "Requirement already satisfied: certifi>=2017.4.17 in /usr/local/lib/python3.11/dist-packages (from requests) (2025.8.3)\n"
          ]
        }
      ],
      "source": [
        "# Install required packages\n",
        "!pip install requests"
      ]
    },
    {
      "cell_type": "code",
      "source": [
        "# Import libraries\n",
        "import requests\n",
        "import sqlite3\n",
        "from datetime import datetime\n",
        "import os\n",
        "os.remove(\"bitcoin_prices.db\")\n",
        "\n",
        "\n",
        "# Ask the user for the target currency\n",
        "target_currency = input(\"Enter the target currency (e.g., zar, eur, gbp): \").lower()"
      ],
      "metadata": {
        "id": "o2zpVKtTz-8k",
        "colab": {
          "base_uri": "https://localhost:8080/"
        },
        "outputId": "92fe5903-3391-4f62-cb8f-a4dfb70a2a30"
      },
      "execution_count": 14,
      "outputs": [
        {
          "name": "stdout",
          "output_type": "stream",
          "text": [
            "Enter the target currency (e.g., zar, eur, gbp): zar\n"
          ]
        }
      ]
    },
    {
      "cell_type": "code",
      "source": [
        "# Read data from CoinGecko API\n",
        "url = f\"https://api.coingecko.com/api/v3/simple/price?ids=bitcoin&vs_currencies=usd,{target_currency}\"\n",
        "response = requests.get(url)\n",
        "data = response.json()\n",
        "\n",
        "data\n",
        "# Extract USD and target currency prices\n",
        "usd_price = data[\"bitcoin\"][\"usd\"]\n",
        "target_price = data[\"bitcoin\"][target_currency]\n",
        "\n",
        "timestamp = datetime.now().isoformat()\n",
        "print(f\"Bitcoin price in USD: {usd_price}\")\n",
        "print(f\"Bitcoin price in {target_currency.upper()}: {target_price}\")"
      ],
      "metadata": {
        "id": "lu4NR0Rf0LKn",
        "colab": {
          "base_uri": "https://localhost:8080/"
        },
        "outputId": "ef10cfe1-4972-4007-a672-8d3d7f0fec71"
      },
      "execution_count": 15,
      "outputs": [
        {
          "output_type": "stream",
          "name": "stdout",
          "text": [
            "Bitcoin price in USD: 119993\n",
            "Bitcoin price in ZAR: 2100441\n"
          ]
        }
      ]
    },
    {
      "cell_type": "markdown",
      "source": [
        "We will extract the Bitcoin price in USD and convert it to ZAR using an estimated exchange rate.\n",
        "This is an example of turning raw data into useful **information**."
      ],
      "metadata": {
        "id": "6-vfkALo0P9Q"
      }
    },
    {
      "cell_type": "code",
      "source": [
        "# Function to convert USD to ZAR\n",
        "def convert_usd_to_zar(usd_amount, rate=18.5):\n",
        "    return round(usd_amount * rate, 2)"
      ],
      "metadata": {
        "id": "60EpkZEO0V0d"
      },
      "execution_count": 16,
      "outputs": []
    },
    {
      "cell_type": "code",
      "source": [
        "# Extract USD price and apply transformation\n",
        "#usd_price = data[\"bitcoin\"][\"usd\"]\n",
        "#zar_price = convert_usd_to_zar(usd_price)\n",
        "#timestamp = datetime.now().isoformat()\n",
        "\n",
        "#print(f\"Bitcoin price in USD: {usd_price}\")\n",
        "#print(f\"Estimated price in ZAR: {zar_price}\")\n"
      ],
      "metadata": {
        "id": "ecC-Yy-E0a_t"
      },
      "execution_count": 17,
      "outputs": []
    },
    {
      "cell_type": "code",
      "source": [
        "# Connect to SQLite database (or create it)\n",
        "conn = sqlite3.connect(\"bitcoin_prices.db\")\n",
        "cursor = conn.cursor()\n",
        "\n",
        "# Create table if it doesn't exist\n",
        "cursor.execute('''\n",
        "CREATE TABLE IF NOT EXISTS prices (\n",
        "    timestamp TEXT PRIMARY KEY,\n",
        "    usd REAL,\n",
        "    target_currency TEXT,\n",
        "    target_price REAL\n",
        ")\n",
        "''')\n",
        "\n",
        "# Insert the new row\n",
        "cursor.execute(\n",
        "    \"INSERT INTO prices (timestamp, usd, target_currency, target_price) VALUES (?, ?, ?, ?)\",\n",
        "    (timestamp, usd_price, target_currency, target_price)\n",
        ")\n",
        "\n",
        "# Commit changes and close connection\n",
        "conn.commit()\n",
        "conn.close()\n"
      ],
      "metadata": {
        "id": "wpimWgg00lgl"
      },
      "execution_count": 18,
      "outputs": []
    },
    {
      "cell_type": "code",
      "source": [
        "# Check if data was successfully written\n",
        "conn = sqlite3.connect(\"bitcoin_prices.db\")\n",
        "cursor = conn.cursor()\n",
        "\n",
        "# Show the last 5 rows\n",
        "rows = cursor.execute(\"SELECT * FROM prices ORDER BY timestamp DESC LIMIT 5\").fetchall()\n",
        "for row in rows:\n",
        "    print(row)\n",
        "\n",
        "conn.close()\n"
      ],
      "metadata": {
        "colab": {
          "base_uri": "https://localhost:8080/"
        },
        "id": "URSO8F6x0q1q",
        "outputId": "f5385f14-dc92-4203-efb4-6853158861d5"
      },
      "execution_count": 19,
      "outputs": [
        {
          "output_type": "stream",
          "name": "stdout",
          "text": [
            "('2025-08-13T09:26:47.654945', 119993.0, 'zar', 2100441.0)\n"
          ]
        }
      ]
    }
  ]
}